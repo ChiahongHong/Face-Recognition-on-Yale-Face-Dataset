{
 "cells": [
  {
   "cell_type": "markdown",
   "metadata": {},
   "source": [
    "extended_yale_SVM&KNN"
   ]
  },
  {
   "cell_type": "markdown",
   "metadata": {},
   "source": [
    "## <center>Face Recognition<center>"
   ]
  },
  {
   "cell_type": "markdown",
   "metadata": {},
   "source": [
    "Subset of the Extended Yale Face database B(11/12/13/15/16/17/18) contains 4166 images of 7 human subjects under 9 poses and 64 illumination conditions"
   ]
  },
  {
   "cell_type": "markdown",
   "metadata": {},
   "source": [
    "try 3 different Face-recognition approaches: KNN, PCA, Convolutional Neural Network(CNN)\n",
    "    \n",
    "to check their advantages and disadvantages under different scenario"
   ]
  },
  {
   "cell_type": "markdown",
   "metadata": {},
   "source": [
    "### <center> Load Data<center>"
   ]
  },
  {
   "cell_type": "code",
   "execution_count": 1,
   "metadata": {
    "collapsed": true
   },
   "outputs": [],
   "source": [
    "%matplotlib inline  \n",
    "import pandas as pd\n",
    "import numpy as np\n",
    "import os,sys\n",
    "from sklearn.model_selection import train_test_split\n",
    "\n",
    "import logging\n",
    "from PIL import Image\n",
    "\n",
    "from sklearn.decomposition import PCA\n",
    "from sklearn.discriminant_analysis import LinearDiscriminantAnalysis as LDA\n",
    "from sklearn.neighbors import KNeighborsClassifier as KNN\n",
    "from sklearn.metrics import accuracy_score\n",
    "from sklearn.svm import SVC\n",
    "from sklearn.metrics import classification_report\n",
    "from sklearn.metrics import confusion_matrix\n",
    "\n",
    "from sklearn.model_selection import GridSearchCV\n",
    "import matplotlib.pyplot as plt\n",
    "from time import time\n",
    "from sklearn.pipeline import Pipeline\n"
   ]
  },
  {
   "cell_type": "code",
   "execution_count": 3,
   "metadata": {
    "collapsed": true
   },
   "outputs": [],
   "source": [
    "from PIL import Image\n",
    "import numpy as np\n",
    "import glob\n",
    "\n",
    "\n",
    "# Min's Link\n",
    "path = '/Users/minfang/Documents/ExtendYale'\n",
    "def read_images(path, sz=(168,192),occlusion = False): \n",
    "    t0 = time() # time reading images\n",
    "    c=0 # count of read images\n",
    "    \n",
    "    # y to store subject number of images read\n",
    "    y = [] \n",
    "    # Images are resized to 640x480\n",
    "    # x to store all image data\n",
    "    x = np.empty([1, 32256]) \n",
    "    for dirname , dirnames , filenames in os.walk(path):\n",
    "        # loop all directories, sub-dir, files to read images\n",
    "        # in data folder of this project, only 1st dirnames is valid, others are empty list (no subfolder)\n",
    "        for subdirname in dirnames:\n",
    "            subject_path = os.path.join(dirname , subdirname) \n",
    "            for filename in os.listdir(subject_path):\n",
    "                # read files start with 'yale'\n",
    "                # eclude windows hidden files of 'desktop.ini'\n",
    "                if filename[:4] != 'yale':\n",
    "                    continue\n",
    "                \n",
    "                # for files start with 'yale'\n",
    "                # 1. read image\n",
    "                # 2. convert images from RGB to L(color to black/white)\n",
    "                # In this project, all images are greyscale images, run this step in case of exceptions\n",
    "                # 3. resize image to 168 X 192\n",
    "                # In this project, all images are 168 X 192, run this step in case of exceptions\n",
    "                # 4. read images to matrix (ndarray)\n",
    "                # 5. normalize image matrix\n",
    "                # 6. flatten image ndarray (2-d to 1-d)\n",
    "                # 7. store image ndarray to data (x)\n",
    "                try:\n",
    "                    im = Image.open(os.path.join(subject_path , filename)) \n",
    "                    im = im.convert(\"L\")\n",
    "                    # resize to given size (if given)\n",
    "                    if (sz is not None):\n",
    "                        im = im.resize(sz, Image.ANTIALIAS)\n",
    "                    im  = np.asarray(im, dtype=np.uint8)\n",
    "                    im.flags.writeable = True # set ndarray as writeable. not read-only\n",
    "                    \n",
    "                    # Normalization\n",
    "                    im = (im - im.mean())/im.std()\n",
    "\n",
    "                    # Set occlusion area, not useful in this project. \n",
    "                    # Just for fun and possible applications in extending projects\n",
    "                    if occlusion:\n",
    "                        im[30:60,10:150]=im.min()\n",
    "                        im[70:100,60:100]=im.min()\n",
    "                    \n",
    "                    # Convert 2-d ndarray images to 1-d array by rows through ndarray.ravel()\n",
    "                    # append image array to x\n",
    "                    # first element is empty array\n",
    "                    x = np.vstack((x,im.ravel()))\n",
    "  \n",
    "                    # y.append(c)\n",
    "                    # append image subject number to label data: y\n",
    "                    y.append(filename[5:7])\n",
    "                except IOError:\n",
    "                    #print \"I/O error({0}): {1}\".format(\"errno\", \"strerror\") #there is some text files in the path\n",
    "                    pass\n",
    "                except:\n",
    "                    print (\"Unexpected error:\", sys.exc_info()[0] )\n",
    "                    raise\n",
    "            c = c+1\n",
    "        \n",
    "    y = np.asarray(y)\n",
    "    x = x[1:] # Skip the first line which is void\n",
    "    print(\"Image read in %0.3fs\" % (time() - t0))\n",
    "    return [x,y]"
   ]
  },
  {
   "cell_type": "markdown",
   "metadata": {},
   "source": [
    "### <center> train test split<center>"
   ]
  },
  {
   "cell_type": "code",
   "execution_count": 4,
   "metadata": {},
   "outputs": [
    {
     "name": "stdout",
     "output_type": "stream",
     "text": [
      "Image read in 1244.691s\n",
      "CPU times: user 15min 24s, sys: 12min 47s, total: 28min 12s\n",
      "Wall time: 20min 44s\n"
     ]
    }
   ],
   "source": [
    "%%time\n",
    "x,y = read_images(path=path,occlusion=False)"
   ]
  },
  {
   "cell_type": "code",
   "execution_count": 5,
   "metadata": {
    "collapsed": true
   },
   "outputs": [],
   "source": [
    "x_train, x_test, y_train, y_test = train_test_split(x, y, test_size=0.1, random_state=42)"
   ]
  },
  {
   "cell_type": "code",
   "execution_count": 6,
   "metadata": {},
   "outputs": [
    {
     "name": "stdout",
     "output_type": "stream",
     "text": [
      "x data  size:  4095\n",
      "y data  size:  4095\n",
      "x_train size:  3685\n",
      "y_trian size:  3685\n",
      "x_test  size:  410\n",
      "y_test  size:  410\n",
      "\n",
      "Train set labels:  ['11' '12' '13' '15' '16' '17' '18']\n",
      "Train set counts:  [527 537 534 523 527 515 522]\n",
      "Test  set labels:  ['11' '12' '13' '15' '16' '17' '18']\n",
      "Train set counts:  [58 48 51 62 58 70 63]\n",
      "Test  set counts:  [58 48 51 62 58 70 63]\n"
     ]
    }
   ],
   "source": [
    "# check train, test data shape and labels\n",
    "print(\"x data  size: \", x.shape[0])\n",
    "print(\"y data  size: \", y.shape[0])\n",
    "print(\"x_train size: \", x_train.shape[0])\n",
    "print(\"y_trian size: \", y_train.shape[0])\n",
    "print(\"x_test  size: \", x_test.shape[0])\n",
    "print(\"y_test  size: \", y_test.shape[0])\n",
    "\n",
    "r_unique, r_counts = np.unique(y_train, return_counts=True)\n",
    "t_unique, t_counts = np.unique(y_test, return_counts=True)\n",
    "\n",
    "print(\"\\nTrain set labels: \", r_unique)\n",
    "print(\"Train set counts: \", r_counts)\n",
    "print(\"Test  set labels: \", t_unique)\n",
    "print(\"Train set counts: \", t_counts)\n",
    "print(\"Test  set counts: \", t_counts)"
   ]
  },
  {
   "cell_type": "code",
   "execution_count": 7,
   "metadata": {},
   "outputs": [
    {
     "data": {
      "text/html": [
       "<div>\n",
       "<style scoped>\n",
       "    .dataframe tbody tr th:only-of-type {\n",
       "        vertical-align: middle;\n",
       "    }\n",
       "\n",
       "    .dataframe tbody tr th {\n",
       "        vertical-align: top;\n",
       "    }\n",
       "\n",
       "    .dataframe thead th {\n",
       "        text-align: right;\n",
       "    }\n",
       "</style>\n",
       "<table border=\"1\" class=\"dataframe\">\n",
       "  <thead>\n",
       "    <tr style=\"text-align: right;\">\n",
       "      <th></th>\n",
       "      <th>0</th>\n",
       "      <th>1</th>\n",
       "      <th>2</th>\n",
       "      <th>3</th>\n",
       "      <th>4</th>\n",
       "      <th>5</th>\n",
       "      <th>6</th>\n",
       "    </tr>\n",
       "  </thead>\n",
       "  <tbody>\n",
       "    <tr>\n",
       "      <th>label</th>\n",
       "      <td>11</td>\n",
       "      <td>12</td>\n",
       "      <td>13</td>\n",
       "      <td>15</td>\n",
       "      <td>16</td>\n",
       "      <td>17</td>\n",
       "      <td>18</td>\n",
       "    </tr>\n",
       "    <tr>\n",
       "      <th>train_size</th>\n",
       "      <td>527</td>\n",
       "      <td>537</td>\n",
       "      <td>534</td>\n",
       "      <td>523</td>\n",
       "      <td>527</td>\n",
       "      <td>515</td>\n",
       "      <td>522</td>\n",
       "    </tr>\n",
       "  </tbody>\n",
       "</table>\n",
       "</div>"
      ],
      "text/plain": [
       "              0    1    2    3    4    5    6\n",
       "label        11   12   13   15   16   17   18\n",
       "train_size  527  537  534  523  527  515  522"
      ]
     },
     "execution_count": 7,
     "metadata": {},
     "output_type": "execute_result"
    }
   ],
   "source": [
    "train_size = pd.DataFrame({'label':r_unique,'train_size':r_counts,}).T\n",
    "train_size"
   ]
  },
  {
   "cell_type": "code",
   "execution_count": 8,
   "metadata": {},
   "outputs": [
    {
     "data": {
      "text/html": [
       "<div>\n",
       "<style scoped>\n",
       "    .dataframe tbody tr th:only-of-type {\n",
       "        vertical-align: middle;\n",
       "    }\n",
       "\n",
       "    .dataframe tbody tr th {\n",
       "        vertical-align: top;\n",
       "    }\n",
       "\n",
       "    .dataframe thead th {\n",
       "        text-align: right;\n",
       "    }\n",
       "</style>\n",
       "<table border=\"1\" class=\"dataframe\">\n",
       "  <thead>\n",
       "    <tr style=\"text-align: right;\">\n",
       "      <th></th>\n",
       "      <th>0</th>\n",
       "      <th>1</th>\n",
       "      <th>2</th>\n",
       "      <th>3</th>\n",
       "      <th>4</th>\n",
       "      <th>5</th>\n",
       "      <th>6</th>\n",
       "    </tr>\n",
       "  </thead>\n",
       "  <tbody>\n",
       "    <tr>\n",
       "      <th>label</th>\n",
       "      <td>11</td>\n",
       "      <td>12</td>\n",
       "      <td>13</td>\n",
       "      <td>15</td>\n",
       "      <td>16</td>\n",
       "      <td>17</td>\n",
       "      <td>18</td>\n",
       "    </tr>\n",
       "    <tr>\n",
       "      <th>train_size</th>\n",
       "      <td>58</td>\n",
       "      <td>48</td>\n",
       "      <td>51</td>\n",
       "      <td>62</td>\n",
       "      <td>58</td>\n",
       "      <td>70</td>\n",
       "      <td>63</td>\n",
       "    </tr>\n",
       "  </tbody>\n",
       "</table>\n",
       "</div>"
      ],
      "text/plain": [
       "             0   1   2   3   4   5   6\n",
       "label       11  12  13  15  16  17  18\n",
       "train_size  58  48  51  62  58  70  63"
      ]
     },
     "execution_count": 8,
     "metadata": {},
     "output_type": "execute_result"
    }
   ],
   "source": [
    "test_size = pd.DataFrame({'label':t_unique,'train_size':t_counts,}).T\n",
    "test_size"
   ]
  },
  {
   "cell_type": "code",
   "execution_count": 9,
   "metadata": {},
   "outputs": [
    {
     "data": {
      "image/png": "[encoded data removed]",
      "text/plain": [
       "<Figure size 432x288 with 1 Axes>"
      ]
     },
     "metadata": {},
     "output_type": "display_data"
    },
    {
     "data": {
      "text/plain": [
       "<Figure size 432x288 with 0 Axes>"
      ]
     },
     "metadata": {},
     "output_type": "display_data"
    }
   ],
   "source": [
    "#print(x_test[10].reshape(168, 192))\n",
    "im0 = x[0].reshape(192, 168)\n",
    "plt.imshow(im0, cmap = plt.get_cmap(\"gray\"))\n",
    "plt.show()\n",
    "plt.clf()"
   ]
  },
  {
   "cell_type": "code",
   "execution_count": null,
   "metadata": {
    "collapsed": true
   },
   "outputs": [],
   "source": []
  }
 ],
 "metadata": {
  "kernelspec": {
   "display_name": "Python 3",
   "language": "python",
   "name": "python3"
  },
  "language_info": {
   "codemirror_mode": {
    "name": "ipython",
    "version": 3
   },
   "file_extension": ".py",
   "mimetype": "text/x-python",
   "name": "python",
   "nbconvert_exporter": "python",
   "pygments_lexer": "ipython3",
   "version": "3.6.1"
  }
 },
 "nbformat": 4,
 "nbformat_minor": 2
}
