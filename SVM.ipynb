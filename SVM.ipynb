{
 "cells": [
  {
   "cell_type": "markdown",
   "metadata": {},
   "source": [
    "cropped_yale_SVM&KNN"
   ]
  },
  {
   "cell_type": "markdown",
   "metadata": {},
   "source": [
    "## <center>Face Recognition<center>"
   ]
  },
  {
   "cell_type": "markdown",
   "metadata": {},
   "source": [
    "The Extended Yale Facedatabase B contains 2414 images of 39 different people in its cropped version"
   ]
  },
  {
   "cell_type": "markdown",
   "metadata": {},
   "source": [
    "try 3 different Face-recognition approaches: KNN, PCA, Convolutional Neural Network(CNN)\n",
    "    \n",
    "to check their advantages and disadvantages under different scenario"
   ]
  },
  {
   "cell_type": "markdown",
   "metadata": {},
   "source": [
    "### <center> Pipeline and CV<center> "
   ]
  },
  {
   "cell_type": "markdown",
   "metadata": {},
   "source": [
    "#### <center>optimal gamma for rbf_SVM<center>"
   ]
  },
  {
   "cell_type": "code",
   "execution_count": 1,
   "metadata": {
    "collapsed": true
   },
   "outputs": [],
   "source": [
    "# gaussian_kernel sigma \n",
    "def optimal_sigma(x_train, y_train, size=100, K=7, dist_mat = True):\n",
    "    import sklearn.neighbors as nbs\n",
    "    \n",
    "    #set up subset of training data by class\n",
    "    x_train_class = []   \n",
    "    #Setup sample data by class\n",
    "    sample_x_class = []\n",
    "    # Setup KDT tree subgroup\n",
    "    ref_forest = []\n",
    "    # get unique labels and counts of each label \n",
    "    unique, counts = np.unique(y_train, return_counts=True)\n",
    "    nclass = len(unique)\n",
    "    # matrix to store Kth nearest distance to each sample point in each class\n",
    "    k_dist = np.zeros((size, nclass), dtype = 'float')\n",
    "    # get sample size of each label based on its proportion of population\n",
    "    np.random.seed(123)\n",
    "    sample_size = (np.rint(counts * size / y_train.shape[0])).astype(int)\n",
    "    \n",
    "    for i in range(0, nclass):\n",
    "        # get training points of label i\n",
    "        x_train_l = x_train[y_train == unique[i]]\n",
    "        # assign x_train by label into (0-9) subsets\n",
    "        x_train_class.append(x_train_l)\n",
    "        # range for sampling\n",
    "        c = range(0, counts[i])\n",
    "        # get index of random samples\n",
    "        idx = np.random.choice(c, sample_size[i], replace = False)  # no repetitives in random samples\n",
    "        # append random saples of label i to sample data list\n",
    "        sample_x_class.append(x_train_l[idx])\n",
    "        # append training data of label i to KDT list\n",
    "        ref_forest.append(nbs.KDTree(x_train_class[i]))\n",
    "        # get k nearest dist and their indices in training set of label i\n",
    "        dist, ind = ref_forest[i].query(sample_x_class[i], k = K)\n",
    "        # print(dist)\n",
    "        for j in range(0, sample_size[i] ):   \n",
    "            # ind[j,0:k]  gives index of kth nearest points from each sample point to all data in KDT\n",
    "            # dist[j,0:k] gives dist  of kth nearest points from each sample point to all data in KDT\n",
    "            loc = np.sum(sample_size[0:i])\n",
    "            k_dist[j + loc , i] = dist[j, K-1]\n",
    "        \n",
    "    if dist_mat == True:\n",
    "        return (k_dist, np.sum(k_dist) / np.sum(sample_size) )\n",
    "    else: \n",
    "        return np.sum(k_dist) / np.sum(sample_size)"
   ]
  },
  {
   "cell_type": "code",
   "execution_count": 2,
   "metadata": {},
   "outputs": [
    {
     "ename": "NameError",
     "evalue": "name 'x_train_pca' is not defined",
     "output_type": "error",
     "traceback": [
      "\u001b[0;31m---------------------------------------------------------------------------\u001b[0m",
      "\u001b[0;31mNameError\u001b[0m                                 Traceback (most recent call last)",
      "\u001b[0;32m<ipython-input-2-fab52d63612b>\u001b[0m in \u001b[0;36m<module>\u001b[0;34m()\u001b[0m\n\u001b[0;32m----> 1\u001b[0;31m \u001b[0mresult\u001b[0m \u001b[0;34m=\u001b[0m \u001b[0moptimal_sigma\u001b[0m\u001b[0;34m(\u001b[0m\u001b[0mx_train_pca\u001b[0m\u001b[0;34m,\u001b[0m \u001b[0my_train\u001b[0m\u001b[0;34m,\u001b[0m \u001b[0msize\u001b[0m\u001b[0;34m=\u001b[0m\u001b[0;36m800\u001b[0m\u001b[0;34m,\u001b[0m \u001b[0mK\u001b[0m\u001b[0;34m=\u001b[0m\u001b[0;36m7\u001b[0m\u001b[0;34m,\u001b[0m \u001b[0mdist_mat\u001b[0m \u001b[0;34m=\u001b[0m \u001b[0;32mTrue\u001b[0m\u001b[0;34m)\u001b[0m\u001b[0;34m\u001b[0m\u001b[0m\n\u001b[0m",
      "\u001b[0;31mNameError\u001b[0m: name 'x_train_pca' is not defined"
     ]
    }
   ],
   "source": [
    "result = optimal_sigma(x_train_pca, y_train, size=800, K=7, dist_mat = True)"
   ]
  },
  {
   "cell_type": "code",
   "execution_count": 37,
   "metadata": {},
   "outputs": [
    {
     "data": {
      "text/plain": [
       "113.05562877427953"
      ]
     },
     "execution_count": 37,
     "metadata": {},
     "output_type": "execute_result"
    }
   ],
   "source": [
    "optimal_sigma = result[1]\n",
    "optimal_sigma"
   ]
  },
  {
   "cell_type": "code",
   "execution_count": 38,
   "metadata": {},
   "outputs": [
    {
     "data": {
      "text/plain": [
       "3.911880908825158e-05"
      ]
     },
     "execution_count": 38,
     "metadata": {},
     "output_type": "execute_result"
    }
   ],
   "source": [
    "optimal_gamma = 1/(2*(optimal_sigma**2))\n",
    "optimal_gamma"
   ]
  },
  {
   "cell_type": "markdown",
   "metadata": {},
   "source": [
    "### <center>GridSearch for kernel_SVM(chen's approach)<center>\n",
    "<center>gaussian<center>"
   ]
  },
  {
   "cell_type": "code",
   "execution_count": 46,
   "metadata": {},
   "outputs": [
    {
     "name": "stdout",
     "output_type": "stream",
     "text": [
      "CPU times: user 2 µs, sys: 1e+03 ns, total: 3 µs\n",
      "Wall time: 15 µs\n",
      "Best estimator found by grid search:\n",
      "Pipeline(memory=None,\n",
      "     steps=[('reduce_dim', PCA(copy=True, iterated_power='auto', n_components=200, random_state=None,\n",
      "  svd_solver='randomized', tol=0.0, whiten=True)), ('classify', SVC(C=10000.0, cache_size=200, class_weight='balanced', coef0=0.0,\n",
      "  decision_function_shape='ovr', degree=3, gamma=3.911880908825158e-05,\n",
      "  kernel='rbf', max_iter=-1, probability=False, random_state=None,\n",
      "  shrinking=True, tol=0.001, verbose=False))])\n",
      "-----------------------------------------------------------------------\n",
      "Best score found with the grid search (CV 3 folds) 0.9847856154910097\n",
      "-----------------------------------------------------------------------\n"
     ]
    }
   ],
   "source": [
    "%time\n",
    "pipe = Pipeline([\n",
    "    ('reduce_dim', PCA(svd_solver='randomized',whiten=True)),\n",
    "    ('classify', SVC(kernel='rbf', class_weight='balanced'))\n",
    "])\n",
    "\n",
    "N_FEATURES_OPTIONS = [200]\n",
    "C_OPTIONS = [1e3, 5e3, 1e4, 5e4, 1e5]\n",
    "gamma_OPTIONS = [optimal_gamma]\n",
    "        \n",
    "param_grid = [{\n",
    "        'reduce_dim__n_components': N_FEATURES_OPTIONS,\n",
    "        'classify__C': C_OPTIONS,\n",
    "        'classify__gamma' : gamma_OPTIONS\n",
    "    }]\n",
    "\n",
    "grid = GridSearchCV(pipe, cv=3, n_jobs= -1,param_grid=param_grid)\n",
    "grid = grid.fit(x_train, y_train)\n",
    "print(\"Best estimator found by grid search:\")\n",
    "print(grid.best_estimator_)\n",
    "print ('-----------------------------------------------------------------------')\n",
    "print ('Best score found with the grid search (CV 3 folds)', grid.best_score_)\n",
    "print ('-----------------------------------------------------------------------')"
   ]
  },
  {
   "cell_type": "code",
   "execution_count": 43,
   "metadata": {},
   "outputs": [
    {
     "name": "stdout",
     "output_type": "stream",
     "text": [
      "Predicting people's names on the test set\n",
      "done in 0.228s\n",
      "             precision    recall  f1-score   support\n",
      "\n",
      "         01       1.00      1.00      1.00         7\n",
      "         02       1.00      1.00      1.00         4\n",
      "         03       1.00      1.00      1.00         5\n",
      "         04       1.00      1.00      1.00         5\n",
      "         05       1.00      1.00      1.00        12\n",
      "         06       1.00      1.00      1.00         6\n",
      "         07       0.93      1.00      0.96        13\n",
      "         08       1.00      1.00      1.00        10\n",
      "         09       1.00      1.00      1.00         6\n",
      "         10       1.00      1.00      1.00         6\n",
      "         11       0.86      1.00      0.92         6\n",
      "         12       1.00      1.00      1.00         6\n",
      "         13       1.00      1.00      1.00         6\n",
      "         15       1.00      1.00      1.00         7\n",
      "         16       0.89      0.89      0.89         9\n",
      "         17       1.00      1.00      1.00         3\n",
      "         18       0.00      0.00      0.00         0\n",
      "         19       1.00      1.00      1.00         7\n",
      "         20       0.83      1.00      0.91         5\n",
      "         21       1.00      1.00      1.00         3\n",
      "         22       1.00      1.00      1.00         7\n",
      "         23       1.00      0.86      0.92         7\n",
      "         24       1.00      1.00      1.00         5\n",
      "         25       1.00      0.86      0.92         7\n",
      "         26       1.00      1.00      1.00         6\n",
      "         27       1.00      1.00      1.00         6\n",
      "         28       1.00      1.00      1.00         7\n",
      "         29       1.00      0.83      0.91         6\n",
      "         30       1.00      1.00      1.00         9\n",
      "         31       1.00      1.00      1.00         8\n",
      "         32       1.00      0.82      0.90        11\n",
      "         33       1.00      1.00      1.00         3\n",
      "         34       1.00      1.00      1.00         4\n",
      "         35       0.88      1.00      0.93         7\n",
      "         36       0.90      1.00      0.95         9\n",
      "         37       1.00      1.00      1.00         5\n",
      "         38       1.00      0.75      0.86         4\n",
      "         39       1.00      1.00      1.00         4\n",
      "\n",
      "avg / total       0.98      0.97      0.97       241\n",
      "\n"
     ]
    },
    {
     "name": "stderr",
     "output_type": "stream",
     "text": [
      "/anaconda3/lib/python3.6/site-packages/sklearn/metrics/classification.py:1137: UndefinedMetricWarning: Recall and F-score are ill-defined and being set to 0.0 in labels with no true samples.\n",
      "  'recall', 'true', average, warn_for)\n"
     ]
    }
   ],
   "source": [
    "import time\n",
    "\n",
    "print(\"Predicting people's names on the test set\")\n",
    "t0 = time.time()\n",
    "y_pred_rbf = grid.predict(x_test)\n",
    "print(\"done in %0.3fs\" % (time.time() - t0))\n",
    "\n",
    "print(classification_report(y_test, y_pred_rbf))"
   ]
  },
  {
   "cell_type": "markdown",
   "metadata": {},
   "source": [
    "### <center>GridSearch for kernel_SVM(chen's approach)<center>\n",
    "<center>poly<center>"
   ]
  },
  {
   "cell_type": "code",
   "execution_count": 47,
   "metadata": {},
   "outputs": [
    {
     "name": "stdout",
     "output_type": "stream",
     "text": [
      "CPU times: user 5 µs, sys: 1e+03 ns, total: 6 µs\n",
      "Wall time: 20 µs\n",
      "Best estimator found by grid search:\n",
      "Pipeline(memory=None,\n",
      "     steps=[('reduce_dim', PCA(copy=True, iterated_power='auto', n_components=200, random_state=None,\n",
      "  svd_solver='randomized', tol=0.0, whiten=True)), ('classify', SVC(C=1000.0, cache_size=200, class_weight='balanced', coef0=0.0,\n",
      "  decision_function_shape='ovr', degree=2, gamma='auto', kernel='poly',\n",
      "  max_iter=-1, probability=False, random_state=None, shrinking=True,\n",
      "  tol=0.001, verbose=False))])\n",
      "-----------------------------------------------------------------------\n",
      "Best score found with the grid search (CV 3 folds) 0.966804979253112\n",
      "-----------------------------------------------------------------------\n"
     ]
    }
   ],
   "source": [
    "%time\n",
    "pipe = Pipeline([\n",
    "    ('reduce_dim', PCA(svd_solver='randomized',whiten=True)),\n",
    "    ('classify', SVC(kernel='poly', class_weight='balanced'))\n",
    "])\n",
    "\n",
    "N_FEATURES_OPTIONS = [200]\n",
    "C_OPTIONS = [1e3, 5e3, 1e4, 5e4, 1e5]\n",
    "DEGREE_OPTIONS = [2,3]\n",
    "        \n",
    "param_grid = [{\n",
    "        'reduce_dim__n_components': N_FEATURES_OPTIONS,\n",
    "        'classify__C': C_OPTIONS,\n",
    "        'classify__degree' : DEGREE_OPTIONS\n",
    "    }]\n",
    "\n",
    "grid = GridSearchCV(pipe, cv=3, n_jobs= -1,param_grid=param_grid)\n",
    "grid = grid.fit(x_train, y_train)\n",
    "print(\"Best estimator found by grid search:\")\n",
    "print(grid.best_estimator_)\n",
    "print ('-----------------------------------------------------------------------')\n",
    "print ('Best score found with the grid search (CV 3 folds)', grid.best_score_)\n",
    "print ('-----------------------------------------------------------------------')"
   ]
  },
  {
   "cell_type": "code",
   "execution_count": 48,
   "metadata": {},
   "outputs": [
    {
     "name": "stdout",
     "output_type": "stream",
     "text": [
      "Predicting people's names on the test set\n",
      "done in 0.392s\n",
      "             precision    recall  f1-score   support\n",
      "\n",
      "         01       1.00      1.00      1.00         7\n",
      "         02       1.00      1.00      1.00         4\n",
      "         03       1.00      1.00      1.00         5\n",
      "         04       1.00      1.00      1.00         5\n",
      "         05       1.00      1.00      1.00        12\n",
      "         06       1.00      1.00      1.00         6\n",
      "         07       1.00      0.92      0.96        13\n",
      "         08       1.00      1.00      1.00        10\n",
      "         09       0.86      1.00      0.92         6\n",
      "         10       0.86      1.00      0.92         6\n",
      "         11       1.00      1.00      1.00         6\n",
      "         12       1.00      1.00      1.00         6\n",
      "         13       1.00      1.00      1.00         6\n",
      "         15       1.00      1.00      1.00         7\n",
      "         16       0.90      1.00      0.95         9\n",
      "         17       1.00      1.00      1.00         3\n",
      "         19       1.00      1.00      1.00         7\n",
      "         20       1.00      1.00      1.00         5\n",
      "         21       1.00      1.00      1.00         3\n",
      "         22       1.00      0.86      0.92         7\n",
      "         23       0.88      1.00      0.93         7\n",
      "         24       1.00      1.00      1.00         5\n",
      "         25       1.00      1.00      1.00         7\n",
      "         26       1.00      1.00      1.00         6\n",
      "         27       1.00      1.00      1.00         6\n",
      "         28       0.88      1.00      0.93         7\n",
      "         29       1.00      0.83      0.91         6\n",
      "         30       1.00      0.89      0.94         9\n",
      "         31       1.00      1.00      1.00         8\n",
      "         32       1.00      0.82      0.90        11\n",
      "         33       1.00      1.00      1.00         3\n",
      "         34       1.00      1.00      1.00         4\n",
      "         35       0.88      1.00      0.93         7\n",
      "         36       1.00      1.00      1.00         9\n",
      "         37       1.00      1.00      1.00         5\n",
      "         38       1.00      1.00      1.00         4\n",
      "         39       1.00      1.00      1.00         4\n",
      "\n",
      "avg / total       0.98      0.98      0.97       241\n",
      "\n"
     ]
    }
   ],
   "source": [
    "import time\n",
    "\n",
    "print(\"Predicting people's names on the test set\")\n",
    "t0 = time.time()\n",
    "y_pred_poly = grid.predict(x_test)\n",
    "print(\"done in %0.3fs\" % (time.time() - t0))\n",
    "\n",
    "print(classification_report(y_test, y_pred_poly))"
   ]
  },
  {
   "cell_type": "markdown",
   "metadata": {},
   "source": [
    "### <center>kernel_SVM<center>\n",
    "<center>linear<center>"
   ]
  },
  {
   "cell_type": "code",
   "execution_count": 23,
   "metadata": {},
   "outputs": [
    {
     "name": "stdout",
     "output_type": "stream",
     "text": [
      "CPU times: user 3 µs, sys: 1e+03 ns, total: 4 µs\n",
      "Wall time: 6.91 µs\n",
      "Best estimator found by grid search:\n",
      "Pipeline(memory=None,\n",
      "     steps=[('classify', SVC(C=1000.0, cache_size=200, class_weight='balanced', coef0=0.0,\n",
      "  decision_function_shape='ovr', degree=3, gamma='auto', kernel='linear',\n",
      "  max_iter=-1, probability=False, random_state=None, shrinking=True,\n",
      "  tol=0.001, verbose=False))])\n",
      "-----------------------------------------------------------------------\n",
      "Best score found with the grid search (CV 3 folds) 0.9783310281235592\n",
      "-----------------------------------------------------------------------\n"
     ]
    }
   ],
   "source": [
    "%time\n",
    "pipe = Pipeline([\n",
    "    ('classify', SVC(kernel='linear', class_weight='balanced'))\n",
    "])\n",
    "C_OPTIONS = [1e3, 5e3, 1e4, 5e4, 1e5]\n",
    "        \n",
    "param_grid = [{\n",
    "        'classify__C': C_OPTIONS\n",
    "    }]\n",
    "\n",
    "grid = GridSearchCV(pipe, cv=3, n_jobs= -1,param_grid=param_grid)\n",
    "grid = grid.fit(x_train_pca, y_train)\n",
    "print(\"Best estimator found by grid search:\")\n",
    "print(grid.best_estimator_)\n",
    "print ('-----------------------------------------------------------------------')\n",
    "print ('Best score found with the grid search (CV 3 folds)', grid.best_score_)\n",
    "print ('-----------------------------------------------------------------------')"
   ]
  },
  {
   "cell_type": "code",
   "execution_count": 24,
   "metadata": {},
   "outputs": [
    {
     "name": "stdout",
     "output_type": "stream",
     "text": [
      "Predicting people's names on the test set\n",
      "done in 0.108s\n",
      "             precision    recall  f1-score   support\n",
      "\n",
      "         01       1.00      1.00      1.00         7\n",
      "         02       1.00      1.00      1.00         4\n",
      "         03       1.00      1.00      1.00         5\n",
      "         04       1.00      1.00      1.00         5\n",
      "         05       1.00      1.00      1.00        12\n",
      "         06       1.00      1.00      1.00         6\n",
      "         07       1.00      1.00      1.00        13\n",
      "         08       1.00      1.00      1.00        10\n",
      "         09       1.00      1.00      1.00         6\n",
      "         10       1.00      1.00      1.00         6\n",
      "         11       1.00      1.00      1.00         6\n",
      "         12       1.00      1.00      1.00         6\n",
      "         13       1.00      1.00      1.00         6\n",
      "         15       1.00      1.00      1.00         7\n",
      "         16       0.90      1.00      0.95         9\n",
      "         17       0.75      1.00      0.86         3\n",
      "         19       1.00      1.00      1.00         7\n",
      "         20       1.00      1.00      1.00         5\n",
      "         21       1.00      1.00      1.00         3\n",
      "         22       1.00      1.00      1.00         7\n",
      "         23       1.00      1.00      1.00         7\n",
      "         24       1.00      1.00      1.00         5\n",
      "         25       1.00      1.00      1.00         7\n",
      "         26       1.00      1.00      1.00         6\n",
      "         27       1.00      1.00      1.00         6\n",
      "         28       1.00      1.00      1.00         7\n",
      "         29       1.00      0.83      0.91         6\n",
      "         30       1.00      0.89      0.94         9\n",
      "         31       1.00      1.00      1.00         8\n",
      "         32       1.00      0.91      0.95        11\n",
      "         33       1.00      1.00      1.00         3\n",
      "         34       1.00      1.00      1.00         4\n",
      "         35       0.88      1.00      0.93         7\n",
      "         36       1.00      1.00      1.00         9\n",
      "         37       1.00      1.00      1.00         5\n",
      "         38       1.00      1.00      1.00         4\n",
      "         39       1.00      1.00      1.00         4\n",
      "\n",
      "avg / total       0.99      0.99      0.99       241\n",
      "\n"
     ]
    }
   ],
   "source": [
    "import time\n",
    "\n",
    "print(\"Predicting people's names on the test set\")\n",
    "t0 = time.time()\n",
    "y_pred_lin = grid.predict(x_test_pca)\n",
    "print(\"done in %0.3fs\" % (time.time() - t0))\n",
    "\n",
    "print(classification_report(y_test, y_pred_lin))"
   ]
  },
  {
   "cell_type": "code",
   "execution_count": 55,
   "metadata": {},
   "outputs": [
    {
     "data": {
      "text/plain": [
       "4.490072965621948"
      ]
     },
     "execution_count": 55,
     "metadata": {},
     "output_type": "execute_result"
    }
   ],
   "source": [
    "ovr_lin_accu = []\n",
    "t0 = time.time()\n",
    "for i in [1e3, 5e3, 1e4, 5e4, 1e5]:\n",
    "    ovr_lin = SVC(kernel='linear', C = i,decision_function_shape='ovr')\n",
    "    ovr_lin = ovr_lin.fit(x_train_pca,y_train)\n",
    "    x_test_ovr_lin_pred = ovr_lin.predict(x_test_pca) #gives you the predicted label for test data\n",
    "    scores = accuracy_score(y_test,x_test_ovr_lin_pred)\n",
    "    ovr_lin_accu.append(scores)\n",
    "time.time()-t0"
   ]
  },
  {
   "cell_type": "code",
   "execution_count": 56,
   "metadata": {},
   "outputs": [
    {
     "data": {
      "text/plain": [
       "[0.9875518672199171,\n",
       " 0.9875518672199171,\n",
       " 0.9875518672199171,\n",
       " 0.9875518672199171,\n",
       " 0.9875518672199171]"
      ]
     },
     "execution_count": 56,
     "metadata": {},
     "output_type": "execute_result"
    }
   ],
   "source": [
    "ovr_lin_accu"
   ]
  },
  {
   "cell_type": "code",
   "execution_count": null,
   "metadata": {
    "collapsed": true
   },
   "outputs": [],
   "source": []
  },
  {
   "cell_type": "markdown",
   "metadata": {},
   "source": [
    "### <center>Plot<center>"
   ]
  },
  {
   "cell_type": "code",
   "execution_count": 27,
   "metadata": {},
   "outputs": [
    {
     "data": {
      "image/png": "[encoded data removed]",
      "text/html": [
       "\n",
       "\n",
       "<style>\n",
       "\n",
       "</style>\n",
       "\n",
       "<div id=\"fig_el19791123825134484095906943\"></div>\n",
       "<script>\n",
       "function mpld3_load_lib(url, callback){\n",
       "  var s = document.createElement('script');\n",
       "  s.src = url;\n",
       "  s.async = true;\n",
       "  s.onreadystatechange = s.onload = callback;\n",
       "  s.onerror = function(){console.warn(\"failed to load library \" + url);};\n",
       "  document.getElementsByTagName(\"head\")[0].appendChild(s);\n",
       "}\n",
       "\n",
       "if(typeof(mpld3) !== \"undefined\" && mpld3._mpld3IsLoaded){\n",
       "   // already loaded: just create the figure\n",
       "   !function(mpld3){\n",
       "       \n",
       "       mpld3.draw_figure(\"fig_el19791123825134484095906943\", {\"width\": 1008.0, \"height\": 792.0, \"axes\": [{\"bbox\": [0.125, 0.125, 0.775, 0.755], \"xlim\": [0.8, 5.2], \"ylim\": [0.84255, 1.00645], \"xdomain\": [0.8, 5.2], \"ydomain\": [0.84255, 1.00645], \"xscale\": \"linear\", \"yscale\": \"linear\", \"axes\": [{\"position\": \"bottom\", \"nticks\": 5, \"tickvalues\": [1, 2, 3, 4, 5], \"tickformat\": null, \"scale\": \"linear\", \"fontsize\": 10.0, \"grid\": {\"gridOn\": true, \"color\": \"#CCCCCC\", \"dasharray\": \"none\", \"alpha\": 1.0}, \"visible\": true}, {\"position\": \"left\", \"nticks\": 10, \"tickvalues\": null, \"tickformat\": null, \"scale\": \"linear\", \"fontsize\": 10.0, \"grid\": {\"gridOn\": true, \"color\": \"#CCCCCC\", \"dasharray\": \"none\", \"alpha\": 1.0}, \"visible\": true}], \"axesbg\": \"#FFFFFF\", \"axesbgalpha\": null, \"zoomable\": true, \"id\": \"el1979112382539200\", \"lines\": [{\"data\": \"data01\", \"xindex\": 0, \"yindex\": 1, \"coordinates\": \"data\", \"id\": \"el19794594499992\", \"color\": \"#000080\", \"linewidth\": 2.0, \"dasharray\": \"none\", \"alpha\": 1, \"zorder\": 2, \"drawstyle\": \"default\"}, {\"data\": \"data01\", \"xindex\": 0, \"yindex\": 2, \"coordinates\": \"data\", \"id\": \"el1979112390851552\", \"color\": \"#87CEEB\", \"linewidth\": 2.0, \"dasharray\": \"none\", \"alpha\": 1, \"zorder\": 2, \"drawstyle\": \"default\"}, {\"data\": \"data01\", \"xindex\": 0, \"yindex\": 2, \"coordinates\": \"data\", \"id\": \"el19794594500496\", \"color\": \"#008000\", \"linewidth\": 2.0, \"dasharray\": \"none\", \"alpha\": 1, \"zorder\": 2, \"drawstyle\": \"default\"}, {\"data\": \"data01\", \"xindex\": 0, \"yindex\": 3, \"coordinates\": \"data\", \"id\": \"el19794594502400\", \"color\": \"#FF0000\", \"linewidth\": 2.0, \"dasharray\": \"none\", \"alpha\": 1, \"zorder\": 2, \"drawstyle\": \"default\"}, {\"data\": \"data01\", \"xindex\": 0, \"yindex\": 4, \"coordinates\": \"data\", \"id\": \"el19794594500552\", \"color\": \"#FF8C00\", \"linewidth\": 2.0, \"dasharray\": \"none\", \"alpha\": 1, \"zorder\": 2, \"drawstyle\": \"default\"}, {\"data\": \"data02\", \"xindex\": 0, \"yindex\": 1, \"coordinates\": \"axes\", \"id\": \"el1979112078529200\", \"color\": \"#000080\", \"linewidth\": 2.0, \"dasharray\": \"none\", \"alpha\": 1, \"zorder\": 1000002.0, \"drawstyle\": \"default\"}, {\"data\": \"data02\", \"xindex\": 0, \"yindex\": 2, \"coordinates\": \"axes\", \"id\": \"el1979112381064864\", \"color\": \"#87CEEB\", \"linewidth\": 2.0, \"dasharray\": \"none\", \"alpha\": 1, \"zorder\": 1000002.0, \"drawstyle\": \"default\"}, {\"data\": \"data02\", \"xindex\": 0, \"yindex\": 3, \"coordinates\": \"axes\", \"id\": \"el1979112381067216\", \"color\": \"#008000\", \"linewidth\": 2.0, \"dasharray\": \"none\", \"alpha\": 1, \"zorder\": 1000002.0, \"drawstyle\": \"default\"}, {\"data\": \"data02\", \"xindex\": 0, \"yindex\": 4, \"coordinates\": \"axes\", \"id\": \"el1979112381126528\", \"color\": \"#FF0000\", \"linewidth\": 2.0, \"dasharray\": \"none\", \"alpha\": 1, \"zorder\": 1000002.0, \"drawstyle\": \"default\"}, {\"data\": \"data02\", \"xindex\": 0, \"yindex\": 5, \"coordinates\": \"axes\", \"id\": \"el1979112381126416\", \"color\": \"#FF8C00\", \"linewidth\": 2.0, \"dasharray\": \"none\", \"alpha\": 1, \"zorder\": 1000002.0, \"drawstyle\": \"default\"}], \"paths\": [{\"data\": \"data03\", \"xindex\": 0, \"yindex\": 1, \"coordinates\": \"axes\", \"pathcodes\": [\"M\", \"L\", \"S\", \"L\", \"S\", \"L\", \"S\", \"L\", \"S\", \"Z\"], \"id\": \"el19794594655808\", \"dasharray\": \"none\", \"alpha\": 0.8, \"facecolor\": \"#FFFFFF\", \"edgecolor\": \"#CCCCCC\", \"edgewidth\": 1.0, \"zorder\": 1000000.0}], \"markers\": [], \"texts\": [{\"text\": \"Accuracy Rate\", \"position\": [-0.03456221198156681, 0.5], \"coordinates\": \"axes\", \"h_anchor\": \"middle\", \"v_baseline\": \"auto\", \"rotation\": -90.0, \"fontsize\": 10.0, \"color\": \"#262626\", \"alpha\": 1, \"zorder\": 3, \"id\": \"el1979112381431256\"}, {\"text\": \"Test Accuracy\", \"position\": [0.5, 1.0100341159943809], \"coordinates\": \"axes\", \"h_anchor\": \"middle\", \"v_baseline\": \"auto\", \"rotation\": -0.0, \"fontsize\": 12.0, \"color\": \"#262626\", \"alpha\": 1, \"zorder\": 3, \"id\": \"el1979112381406848\"}, {\"text\": \"knn\", \"position\": [0.9359959037378393, 0.5426449929761189], \"coordinates\": \"axes\", \"h_anchor\": \"start\", \"v_baseline\": \"auto\", \"rotation\": -0.0, \"fontsize\": 10.0, \"color\": \"#262626\", \"alpha\": 1, \"zorder\": 1000003.0, \"id\": \"el19794594655696\"}, {\"text\": \"svm_gau\", \"position\": [0.9359959037378393, 0.5192320556558968], \"coordinates\": \"axes\", \"h_anchor\": \"start\", \"v_baseline\": \"auto\", \"rotation\": -0.0, \"fontsize\": 10.0, \"color\": \"#262626\", \"alpha\": 1, \"zorder\": 1000003.0, \"id\": \"el1979112381066600\"}, {\"text\": \"svm_qua\", \"position\": [0.9359959037378393, 0.4958191183356747], \"coordinates\": \"axes\", \"h_anchor\": \"start\", \"v_baseline\": \"auto\", \"rotation\": -0.0, \"fontsize\": 10.0, \"color\": \"#262626\", \"alpha\": 1, \"zorder\": 1000003.0, \"id\": \"el1979112381066040\"}, {\"text\": \"svm_lin\", \"position\": [0.9359959037378393, 0.4724061810154526], \"coordinates\": \"axes\", \"h_anchor\": \"start\", \"v_baseline\": \"auto\", \"rotation\": -0.0, \"fontsize\": 10.0, \"color\": \"#262626\", \"alpha\": 1, \"zorder\": 1000003.0, \"id\": \"el1979112381126584\"}, {\"text\": \"cnn\", \"position\": [0.9359959037378393, 0.4489932436952305], \"coordinates\": \"axes\", \"h_anchor\": \"start\", \"v_baseline\": \"auto\", \"rotation\": -0.0, \"fontsize\": 10.0, \"color\": \"#262626\", \"alpha\": 1, \"zorder\": 1000003.0, \"id\": \"el1979112381128152\"}], \"collections\": [], \"images\": [], \"sharex\": [], \"sharey\": []}], \"data\": {\"data01\": [[1.0, 0.85, 0.98, 0.987, 0.999], [2.0, 0.85, 0.98, 0.987, 0.999], [3.0, 0.85, 0.98, 0.987, 0.999], [4.0, 0.85, 0.98, 0.987, 0.999], [5.0, 0.85, 0.98, 0.987, 0.999]], \"data02\": [[0.9001536098310293, 0.5484982273061744, 0.5250852899859523, 0.5016723526657302, 0.47825941534550814, 0.45484647802528605], [0.9257552483358936, 0.5484982273061744, 0.5250852899859523, 0.5016723526657302, 0.47825941534550814, 0.45484647802528605]], \"data03\": [[0.8975934459805429, 0.43895912770084966], [0.9910394265232977, 0.43895912770084966], [0.9935995903737841, 0.43895912770084966], [0.9935995903737841, 0.4423038330323099], [0.9935995903737841, 0.5576961669676902], [0.9935995903737841, 0.5610408722991506], [0.9910394265232977, 0.5610408722991506], [0.8975934459805429, 0.5610408722991506], [0.8950332821300565, 0.5610408722991506], [0.8950332821300565, 0.5576961669676902], [0.8950332821300565, 0.4423038330323099], [0.8950332821300565, 0.43895912770084966], [0.8975934459805429, 0.43895912770084966]]}, \"id\": \"el1979112382513448\", \"plugins\": [{\"type\": \"reset\"}, {\"type\": \"zoom\", \"button\": true, \"enabled\": false}, {\"type\": \"boxzoom\", \"button\": true, \"enabled\": false}]});\n",
       "   }(mpld3);\n",
       "}else if(typeof define === \"function\" && define.amd){\n",
       "   // require.js is available: use it to load d3/mpld3\n",
       "   require.config({paths: {d3: \"https://mpld3.github.io/js/d3.v3.min\"}});\n",
       "   require([\"d3\"], function(d3){\n",
       "      window.d3 = d3;\n",
       "      mpld3_load_lib(\"https://mpld3.github.io/js/mpld3.v0.3.1.dev1.js\", function(){\n",
       "         \n",
       "         mpld3.draw_figure(\"fig_el19791123825134484095906943\", {\"width\": 1008.0, \"height\": 792.0, \"axes\": [{\"bbox\": [0.125, 0.125, 0.775, 0.755], \"xlim\": [0.8, 5.2], \"ylim\": [0.84255, 1.00645], \"xdomain\": [0.8, 5.2], \"ydomain\": [0.84255, 1.00645], \"xscale\": \"linear\", \"yscale\": \"linear\", \"axes\": [{\"position\": \"bottom\", \"nticks\": 5, \"tickvalues\": [1, 2, 3, 4, 5], \"tickformat\": null, \"scale\": \"linear\", \"fontsize\": 10.0, \"grid\": {\"gridOn\": true, \"color\": \"#CCCCCC\", \"dasharray\": \"none\", \"alpha\": 1.0}, \"visible\": true}, {\"position\": \"left\", \"nticks\": 10, \"tickvalues\": null, \"tickformat\": null, \"scale\": \"linear\", \"fontsize\": 10.0, \"grid\": {\"gridOn\": true, \"color\": \"#CCCCCC\", \"dasharray\": \"none\", \"alpha\": 1.0}, \"visible\": true}], \"axesbg\": \"#FFFFFF\", \"axesbgalpha\": null, \"zoomable\": true, \"id\": \"el1979112382539200\", \"lines\": [{\"data\": \"data01\", \"xindex\": 0, \"yindex\": 1, \"coordinates\": \"data\", \"id\": \"el19794594499992\", \"color\": \"#000080\", \"linewidth\": 2.0, \"dasharray\": \"none\", \"alpha\": 1, \"zorder\": 2, \"drawstyle\": \"default\"}, {\"data\": \"data01\", \"xindex\": 0, \"yindex\": 2, \"coordinates\": \"data\", \"id\": \"el1979112390851552\", \"color\": \"#87CEEB\", \"linewidth\": 2.0, \"dasharray\": \"none\", \"alpha\": 1, \"zorder\": 2, \"drawstyle\": \"default\"}, {\"data\": \"data01\", \"xindex\": 0, \"yindex\": 2, \"coordinates\": \"data\", \"id\": \"el19794594500496\", \"color\": \"#008000\", \"linewidth\": 2.0, \"dasharray\": \"none\", \"alpha\": 1, \"zorder\": 2, \"drawstyle\": \"default\"}, {\"data\": \"data01\", \"xindex\": 0, \"yindex\": 3, \"coordinates\": \"data\", \"id\": \"el19794594502400\", \"color\": \"#FF0000\", \"linewidth\": 2.0, \"dasharray\": \"none\", \"alpha\": 1, \"zorder\": 2, \"drawstyle\": \"default\"}, {\"data\": \"data01\", \"xindex\": 0, \"yindex\": 4, \"coordinates\": \"data\", \"id\": \"el19794594500552\", \"color\": \"#FF8C00\", \"linewidth\": 2.0, \"dasharray\": \"none\", \"alpha\": 1, \"zorder\": 2, \"drawstyle\": \"default\"}, {\"data\": \"data02\", \"xindex\": 0, \"yindex\": 1, \"coordinates\": \"axes\", \"id\": \"el1979112078529200\", \"color\": \"#000080\", \"linewidth\": 2.0, \"dasharray\": \"none\", \"alpha\": 1, \"zorder\": 1000002.0, \"drawstyle\": \"default\"}, {\"data\": \"data02\", \"xindex\": 0, \"yindex\": 2, \"coordinates\": \"axes\", \"id\": \"el1979112381064864\", \"color\": \"#87CEEB\", \"linewidth\": 2.0, \"dasharray\": \"none\", \"alpha\": 1, \"zorder\": 1000002.0, \"drawstyle\": \"default\"}, {\"data\": \"data02\", \"xindex\": 0, \"yindex\": 3, \"coordinates\": \"axes\", \"id\": \"el1979112381067216\", \"color\": \"#008000\", \"linewidth\": 2.0, \"dasharray\": \"none\", \"alpha\": 1, \"zorder\": 1000002.0, \"drawstyle\": \"default\"}, {\"data\": \"data02\", \"xindex\": 0, \"yindex\": 4, \"coordinates\": \"axes\", \"id\": \"el1979112381126528\", \"color\": \"#FF0000\", \"linewidth\": 2.0, \"dasharray\": \"none\", \"alpha\": 1, \"zorder\": 1000002.0, \"drawstyle\": \"default\"}, {\"data\": \"data02\", \"xindex\": 0, \"yindex\": 5, \"coordinates\": \"axes\", \"id\": \"el1979112381126416\", \"color\": \"#FF8C00\", \"linewidth\": 2.0, \"dasharray\": \"none\", \"alpha\": 1, \"zorder\": 1000002.0, \"drawstyle\": \"default\"}], \"paths\": [{\"data\": \"data03\", \"xindex\": 0, \"yindex\": 1, \"coordinates\": \"axes\", \"pathcodes\": [\"M\", \"L\", \"S\", \"L\", \"S\", \"L\", \"S\", \"L\", \"S\", \"Z\"], \"id\": \"el19794594655808\", \"dasharray\": \"none\", \"alpha\": 0.8, \"facecolor\": \"#FFFFFF\", \"edgecolor\": \"#CCCCCC\", \"edgewidth\": 1.0, \"zorder\": 1000000.0}], \"markers\": [], \"texts\": [{\"text\": \"Accuracy Rate\", \"position\": [-0.03456221198156681, 0.5], \"coordinates\": \"axes\", \"h_anchor\": \"middle\", \"v_baseline\": \"auto\", \"rotation\": -90.0, \"fontsize\": 10.0, \"color\": \"#262626\", \"alpha\": 1, \"zorder\": 3, \"id\": \"el1979112381431256\"}, {\"text\": \"Test Accuracy\", \"position\": [0.5, 1.0100341159943809], \"coordinates\": \"axes\", \"h_anchor\": \"middle\", \"v_baseline\": \"auto\", \"rotation\": -0.0, \"fontsize\": 12.0, \"color\": \"#262626\", \"alpha\": 1, \"zorder\": 3, \"id\": \"el1979112381406848\"}, {\"text\": \"knn\", \"position\": [0.9359959037378393, 0.5426449929761189], \"coordinates\": \"axes\", \"h_anchor\": \"start\", \"v_baseline\": \"auto\", \"rotation\": -0.0, \"fontsize\": 10.0, \"color\": \"#262626\", \"alpha\": 1, \"zorder\": 1000003.0, \"id\": \"el19794594655696\"}, {\"text\": \"svm_gau\", \"position\": [0.9359959037378393, 0.5192320556558968], \"coordinates\": \"axes\", \"h_anchor\": \"start\", \"v_baseline\": \"auto\", \"rotation\": -0.0, \"fontsize\": 10.0, \"color\": \"#262626\", \"alpha\": 1, \"zorder\": 1000003.0, \"id\": \"el1979112381066600\"}, {\"text\": \"svm_qua\", \"position\": [0.9359959037378393, 0.4958191183356747], \"coordinates\": \"axes\", \"h_anchor\": \"start\", \"v_baseline\": \"auto\", \"rotation\": -0.0, \"fontsize\": 10.0, \"color\": \"#262626\", \"alpha\": 1, \"zorder\": 1000003.0, \"id\": \"el1979112381066040\"}, {\"text\": \"svm_lin\", \"position\": [0.9359959037378393, 0.4724061810154526], \"coordinates\": \"axes\", \"h_anchor\": \"start\", \"v_baseline\": \"auto\", \"rotation\": -0.0, \"fontsize\": 10.0, \"color\": \"#262626\", \"alpha\": 1, \"zorder\": 1000003.0, \"id\": \"el1979112381126584\"}, {\"text\": \"cnn\", \"position\": [0.9359959037378393, 0.4489932436952305], \"coordinates\": \"axes\", \"h_anchor\": \"start\", \"v_baseline\": \"auto\", \"rotation\": -0.0, \"fontsize\": 10.0, \"color\": \"#262626\", \"alpha\": 1, \"zorder\": 1000003.0, \"id\": \"el1979112381128152\"}], \"collections\": [], \"images\": [], \"sharex\": [], \"sharey\": []}], \"data\": {\"data01\": [[1.0, 0.85, 0.98, 0.987, 0.999], [2.0, 0.85, 0.98, 0.987, 0.999], [3.0, 0.85, 0.98, 0.987, 0.999], [4.0, 0.85, 0.98, 0.987, 0.999], [5.0, 0.85, 0.98, 0.987, 0.999]], \"data02\": [[0.9001536098310293, 0.5484982273061744, 0.5250852899859523, 0.5016723526657302, 0.47825941534550814, 0.45484647802528605], [0.9257552483358936, 0.5484982273061744, 0.5250852899859523, 0.5016723526657302, 0.47825941534550814, 0.45484647802528605]], \"data03\": [[0.8975934459805429, 0.43895912770084966], [0.9910394265232977, 0.43895912770084966], [0.9935995903737841, 0.43895912770084966], [0.9935995903737841, 0.4423038330323099], [0.9935995903737841, 0.5576961669676902], [0.9935995903737841, 0.5610408722991506], [0.9910394265232977, 0.5610408722991506], [0.8975934459805429, 0.5610408722991506], [0.8950332821300565, 0.5610408722991506], [0.8950332821300565, 0.5576961669676902], [0.8950332821300565, 0.4423038330323099], [0.8950332821300565, 0.43895912770084966], [0.8975934459805429, 0.43895912770084966]]}, \"id\": \"el1979112382513448\", \"plugins\": [{\"type\": \"reset\"}, {\"type\": \"zoom\", \"button\": true, \"enabled\": false}, {\"type\": \"boxzoom\", \"button\": true, \"enabled\": false}]});\n",
       "      });\n",
       "    });\n",
       "}else{\n",
       "    // require.js not available: dynamically load d3 & mpld3\n",
       "    mpld3_load_lib(\"https://mpld3.github.io/js/d3.v3.min.js\", function(){\n",
       "         mpld3_load_lib(\"https://mpld3.github.io/js/mpld3.v0.3.1.dev1.js\", function(){\n",
       "                 \n",
       "                 mpld3.draw_figure(\"fig_el19791123825134484095906943\", {\"width\": 1008.0, \"height\": 792.0, \"axes\": [{\"bbox\": [0.125, 0.125, 0.775, 0.755], \"xlim\": [0.8, 5.2], \"ylim\": [0.84255, 1.00645], \"xdomain\": [0.8, 5.2], \"ydomain\": [0.84255, 1.00645], \"xscale\": \"linear\", \"yscale\": \"linear\", \"axes\": [{\"position\": \"bottom\", \"nticks\": 5, \"tickvalues\": [1, 2, 3, 4, 5], \"tickformat\": null, \"scale\": \"linear\", \"fontsize\": 10.0, \"grid\": {\"gridOn\": true, \"color\": \"#CCCCCC\", \"dasharray\": \"none\", \"alpha\": 1.0}, \"visible\": true}, {\"position\": \"left\", \"nticks\": 10, \"tickvalues\": null, \"tickformat\": null, \"scale\": \"linear\", \"fontsize\": 10.0, \"grid\": {\"gridOn\": true, \"color\": \"#CCCCCC\", \"dasharray\": \"none\", \"alpha\": 1.0}, \"visible\": true}], \"axesbg\": \"#FFFFFF\", \"axesbgalpha\": null, \"zoomable\": true, \"id\": \"el1979112382539200\", \"lines\": [{\"data\": \"data01\", \"xindex\": 0, \"yindex\": 1, \"coordinates\": \"data\", \"id\": \"el19794594499992\", \"color\": \"#000080\", \"linewidth\": 2.0, \"dasharray\": \"none\", \"alpha\": 1, \"zorder\": 2, \"drawstyle\": \"default\"}, {\"data\": \"data01\", \"xindex\": 0, \"yindex\": 2, \"coordinates\": \"data\", \"id\": \"el1979112390851552\", \"color\": \"#87CEEB\", \"linewidth\": 2.0, \"dasharray\": \"none\", \"alpha\": 1, \"zorder\": 2, \"drawstyle\": \"default\"}, {\"data\": \"data01\", \"xindex\": 0, \"yindex\": 2, \"coordinates\": \"data\", \"id\": \"el19794594500496\", \"color\": \"#008000\", \"linewidth\": 2.0, \"dasharray\": \"none\", \"alpha\": 1, \"zorder\": 2, \"drawstyle\": \"default\"}, {\"data\": \"data01\", \"xindex\": 0, \"yindex\": 3, \"coordinates\": \"data\", \"id\": \"el19794594502400\", \"color\": \"#FF0000\", \"linewidth\": 2.0, \"dasharray\": \"none\", \"alpha\": 1, \"zorder\": 2, \"drawstyle\": \"default\"}, {\"data\": \"data01\", \"xindex\": 0, \"yindex\": 4, \"coordinates\": \"data\", \"id\": \"el19794594500552\", \"color\": \"#FF8C00\", \"linewidth\": 2.0, \"dasharray\": \"none\", \"alpha\": 1, \"zorder\": 2, \"drawstyle\": \"default\"}, {\"data\": \"data02\", \"xindex\": 0, \"yindex\": 1, \"coordinates\": \"axes\", \"id\": \"el1979112078529200\", \"color\": \"#000080\", \"linewidth\": 2.0, \"dasharray\": \"none\", \"alpha\": 1, \"zorder\": 1000002.0, \"drawstyle\": \"default\"}, {\"data\": \"data02\", \"xindex\": 0, \"yindex\": 2, \"coordinates\": \"axes\", \"id\": \"el1979112381064864\", \"color\": \"#87CEEB\", \"linewidth\": 2.0, \"dasharray\": \"none\", \"alpha\": 1, \"zorder\": 1000002.0, \"drawstyle\": \"default\"}, {\"data\": \"data02\", \"xindex\": 0, \"yindex\": 3, \"coordinates\": \"axes\", \"id\": \"el1979112381067216\", \"color\": \"#008000\", \"linewidth\": 2.0, \"dasharray\": \"none\", \"alpha\": 1, \"zorder\": 1000002.0, \"drawstyle\": \"default\"}, {\"data\": \"data02\", \"xindex\": 0, \"yindex\": 4, \"coordinates\": \"axes\", \"id\": \"el1979112381126528\", \"color\": \"#FF0000\", \"linewidth\": 2.0, \"dasharray\": \"none\", \"alpha\": 1, \"zorder\": 1000002.0, \"drawstyle\": \"default\"}, {\"data\": \"data02\", \"xindex\": 0, \"yindex\": 5, \"coordinates\": \"axes\", \"id\": \"el1979112381126416\", \"color\": \"#FF8C00\", \"linewidth\": 2.0, \"dasharray\": \"none\", \"alpha\": 1, \"zorder\": 1000002.0, \"drawstyle\": \"default\"}], \"paths\": [{\"data\": \"data03\", \"xindex\": 0, \"yindex\": 1, \"coordinates\": \"axes\", \"pathcodes\": [\"M\", \"L\", \"S\", \"L\", \"S\", \"L\", \"S\", \"L\", \"S\", \"Z\"], \"id\": \"el19794594655808\", \"dasharray\": \"none\", \"alpha\": 0.8, \"facecolor\": \"#FFFFFF\", \"edgecolor\": \"#CCCCCC\", \"edgewidth\": 1.0, \"zorder\": 1000000.0}], \"markers\": [], \"texts\": [{\"text\": \"Accuracy Rate\", \"position\": [-0.03456221198156681, 0.5], \"coordinates\": \"axes\", \"h_anchor\": \"middle\", \"v_baseline\": \"auto\", \"rotation\": -90.0, \"fontsize\": 10.0, \"color\": \"#262626\", \"alpha\": 1, \"zorder\": 3, \"id\": \"el1979112381431256\"}, {\"text\": \"Test Accuracy\", \"position\": [0.5, 1.0100341159943809], \"coordinates\": \"axes\", \"h_anchor\": \"middle\", \"v_baseline\": \"auto\", \"rotation\": -0.0, \"fontsize\": 12.0, \"color\": \"#262626\", \"alpha\": 1, \"zorder\": 3, \"id\": \"el1979112381406848\"}, {\"text\": \"knn\", \"position\": [0.9359959037378393, 0.5426449929761189], \"coordinates\": \"axes\", \"h_anchor\": \"start\", \"v_baseline\": \"auto\", \"rotation\": -0.0, \"fontsize\": 10.0, \"color\": \"#262626\", \"alpha\": 1, \"zorder\": 1000003.0, \"id\": \"el19794594655696\"}, {\"text\": \"svm_gau\", \"position\": [0.9359959037378393, 0.5192320556558968], \"coordinates\": \"axes\", \"h_anchor\": \"start\", \"v_baseline\": \"auto\", \"rotation\": -0.0, \"fontsize\": 10.0, \"color\": \"#262626\", \"alpha\": 1, \"zorder\": 1000003.0, \"id\": \"el1979112381066600\"}, {\"text\": \"svm_qua\", \"position\": [0.9359959037378393, 0.4958191183356747], \"coordinates\": \"axes\", \"h_anchor\": \"start\", \"v_baseline\": \"auto\", \"rotation\": -0.0, \"fontsize\": 10.0, \"color\": \"#262626\", \"alpha\": 1, \"zorder\": 1000003.0, \"id\": \"el1979112381066040\"}, {\"text\": \"svm_lin\", \"position\": [0.9359959037378393, 0.4724061810154526], \"coordinates\": \"axes\", \"h_anchor\": \"start\", \"v_baseline\": \"auto\", \"rotation\": -0.0, \"fontsize\": 10.0, \"color\": \"#262626\", \"alpha\": 1, \"zorder\": 1000003.0, \"id\": \"el1979112381126584\"}, {\"text\": \"cnn\", \"position\": [0.9359959037378393, 0.4489932436952305], \"coordinates\": \"axes\", \"h_anchor\": \"start\", \"v_baseline\": \"auto\", \"rotation\": -0.0, \"fontsize\": 10.0, \"color\": \"#262626\", \"alpha\": 1, \"zorder\": 1000003.0, \"id\": \"el1979112381128152\"}], \"collections\": [], \"images\": [], \"sharex\": [], \"sharey\": []}], \"data\": {\"data01\": [[1.0, 0.85, 0.98, 0.987, 0.999], [2.0, 0.85, 0.98, 0.987, 0.999], [3.0, 0.85, 0.98, 0.987, 0.999], [4.0, 0.85, 0.98, 0.987, 0.999], [5.0, 0.85, 0.98, 0.987, 0.999]], \"data02\": [[0.9001536098310293, 0.5484982273061744, 0.5250852899859523, 0.5016723526657302, 0.47825941534550814, 0.45484647802528605], [0.9257552483358936, 0.5484982273061744, 0.5250852899859523, 0.5016723526657302, 0.47825941534550814, 0.45484647802528605]], \"data03\": [[0.8975934459805429, 0.43895912770084966], [0.9910394265232977, 0.43895912770084966], [0.9935995903737841, 0.43895912770084966], [0.9935995903737841, 0.4423038330323099], [0.9935995903737841, 0.5576961669676902], [0.9935995903737841, 0.5610408722991506], [0.9910394265232977, 0.5610408722991506], [0.8975934459805429, 0.5610408722991506], [0.8950332821300565, 0.5610408722991506], [0.8950332821300565, 0.5576961669676902], [0.8950332821300565, 0.4423038330323099], [0.8950332821300565, 0.43895912770084966], [0.8975934459805429, 0.43895912770084966]]}, \"id\": \"el1979112382513448\", \"plugins\": [{\"type\": \"reset\"}, {\"type\": \"zoom\", \"button\": true, \"enabled\": false}, {\"type\": \"boxzoom\", \"button\": true, \"enabled\": false}]});\n",
       "            })\n",
       "         });\n",
       "}\n",
       "</script>"
      ],
      "text/plain": [
       "<Figure size 1008x792 with 1 Axes>"
      ]
     },
     "metadata": {},
     "output_type": "display_data"
    }
   ],
   "source": [
    "plt.rcParams['figure.figsize'] = [14,11]\n",
    "cs = range(1,6)\n",
    "plt.xticks(cs)\n",
    "\n",
    "\n",
    "a = np.full((5,1),0.85)\n",
    "b = np.full((5,1),0.98)\n",
    "c = np.full((5,1),0.98)\n",
    "d = np.full((5,1),0.987)\n",
    "e = np.full((5,1),0.999)\n",
    "\n",
    "# plot misclassification test error vs k\n",
    "knn, = plt.plot(cs,a,color='navy', linestyle='solid', linewidth = 2,markersize=5)\n",
    "gau, = plt.plot(cs,b,color='skyblue', linestyle='solid', linewidth = 2,markersize=5)\n",
    "poly, = plt.plot(cs,c,color='green', linestyle='solid', linewidth = 2,markersize=5)\n",
    "lin, = plt.plot(cs,d,color='red', linestyle='solid', linewidth = 2,markersize=5)\n",
    "cnn, = plt.plot(cs,e,color='darkorange', linestyle='solid', linewidth = 2,markersize=5)\n",
    "\n",
    "\n",
    "plt.title('Test Accuracy')\n",
    "plt.xlabel('')\n",
    "plt.ylabel('Accuracy Rate')\n",
    "\n",
    "\n",
    "plt.legend([knn,gau,poly,lin,cnn],[\"knn\",\"svm_gau\",\"svm_qua\",\"svm_lin\",\"cnn\"])\n",
    "plt.show()"
   ]
  },
  {
   "cell_type": "code",
   "execution_count": null,
   "metadata": {
    "collapsed": true
   },
   "outputs": [],
   "source": []
  }
 ],
 "metadata": {
  "kernelspec": {
   "display_name": "Python 3",
   "language": "python",
   "name": "python3"
  },
  "language_info": {
   "codemirror_mode": {
    "name": "ipython",
    "version": 3
   },
   "file_extension": ".py",
   "mimetype": "text/x-python",
   "name": "python",
   "nbconvert_exporter": "python",
   "pygments_lexer": "ipython3",
   "version": "3.6.1"
  }
 },
 "nbformat": 4,
 "nbformat_minor": 2
}
