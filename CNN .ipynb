{
 "cells": [
  {
   "cell_type": "markdown",
   "metadata": {},
   "source": [
    "cropped_yale_CNN"
   ]
  },
  {
   "cell_type": "markdown",
   "metadata": {},
   "source": [
    "## <center>Face Recognition<center>"
   ]
  },
  {
   "cell_type": "markdown",
   "metadata": {},
   "source": [
    "### <center> CNN<center> "
   ]
  },
  {
   "cell_type": "code",
   "execution_count": 12,
   "metadata": {},
   "outputs": [
    {
     "name": "stderr",
     "output_type": "stream",
     "text": [
      "/anaconda3/lib/python3.6/site-packages/sklearn/cross_validation.py:41: DeprecationWarning: This module was deprecated in version 0.18 in favor of the model_selection module into which all the refactored classes and functions are moved. Also note that the interface of the new CV iterators are different from that of this module. This module will be removed in 0.20.\n",
      "  \"This module will be removed in 0.20.\", DeprecationWarning)\n",
      "/anaconda3/lib/python3.6/site-packages/h5py/__init__.py:36: FutureWarning: Conversion of the second argument of issubdtype from `float` to `np.floating` is deprecated. In future, it will be treated as `np.float64 == np.dtype(float).type`.\n",
      "  from ._conv import register_converters as _register_converters\n",
      "Using TensorFlow backend.\n"
     ]
    }
   ],
   "source": [
    "#coding=utf-8\n",
    "import scipy.io as sio\n",
    "import numpy as np\n",
    "import pickle\n",
    "import os\n",
    "from sklearn.cross_validation import train_test_split\n",
    "import seaborn\n",
    "import matplotlib.pyplot as plt\n",
    " \n",
    "from keras.models import Sequential\n",
    "from keras.layers.core import Dense, Dropout, Activation, Flatten\n",
    "from keras.layers import Conv2D, MaxPooling2D\n",
    "#from keras.optimizers import SGD\n",
    "import keras.optimizers as optimizers\n",
    "from keras.utils import np_utils"
   ]
  },
  {
   "cell_type": "code",
   "execution_count": 48,
   "metadata": {
    "collapsed": true
   },
   "outputs": [],
   "source": [
    "# 38 classes (1-39, 0&14 are empty)\n",
    "nb_classes = 40 \n",
    "nb_epoch = 20 \n",
    "batch_size = 40 \n",
    " \n",
    "lr=0.001 #learning rate\n",
    "decay=1e-6 \n",
    "momentum=0.9 # momentum"
   ]
  },
  {
   "cell_type": "code",
   "execution_count": 14,
   "metadata": {
    "collapsed": true
   },
   "outputs": [],
   "source": [
    "# input image dimensions\n",
    "img_rows, img_cols = 192, 168 #img shape\n",
    "\n",
    "# number of convolutional filters to use\n",
    "nb_filters1, nb_filters2 = 5, 10 \n",
    "\n",
    "# size of pooling area for max pooling\n",
    "nb_pool = 2 #pooling size\n",
    "\n",
    "# convolution kernel size\n",
    "nb_conv = 3 "
   ]
  },
  {
   "cell_type": "markdown",
   "metadata": {},
   "source": [
    "#### <center> train model <center> "
   ]
  },
  {
   "cell_type": "code",
   "execution_count": 49,
   "metadata": {
    "collapsed": true
   },
   "outputs": [],
   "source": [
    "model = Sequential()  \n",
    "    \n",
    "# Convolution\n",
    "model.add(Conv2D(nb_filters1, (nb_conv, nb_conv),\n",
    "                 padding='valid',\n",
    "                 kernel_initializer='glorot_normal',\n",
    "                 input_shape=(img_rows, img_cols,1 ),name='Conv2D_1'))\n",
    "model.add(Activation('relu'))\n",
    "\n",
    "# Plooling\n",
    "model.add(MaxPooling2D(pool_size=(nb_pool, nb_pool)))\n",
    "\n",
    "# Convolution\n",
    "model.add(Conv2D(nb_filters2, (nb_conv, nb_conv)))\n",
    "model.add(Activation('relu'))\n",
    "\n",
    "# Plooling\n",
    "model.add(MaxPooling2D(pool_size=(nb_pool, nb_pool)))\n",
    "\n",
    "# Flatten\n",
    "model.add(Flatten())\n",
    "\n",
    "# Fully connection\n",
    "model.add(Dense(1000))  # unit between[#input, #output], [38,32259]\n",
    "model.add(Activation('relu'))\n",
    "    \n",
    "# initialize output layer\n",
    "model.add(Dense(nb_classes))\n",
    "model.add(Activation('softmax'))"
   ]
  },
  {
   "cell_type": "code",
   "execution_count": 50,
   "metadata": {
    "collapsed": true
   },
   "outputs": [],
   "source": [
    "# compile\n",
    "sgd = optimizers.SGD(lr=lr, decay=decay, momentum=momentum, nesterov=True)\n",
    "model.compile(loss='categorical_crossentropy', optimizer=sgd,metrics=['accuracy'])"
   ]
  },
  {
   "cell_type": "code",
   "execution_count": 39,
   "metadata": {},
   "outputs": [
    {
     "name": "stdout",
     "output_type": "stream",
     "text": [
      "(192, 168, 1)\n",
      "(192, 168, 1)\n"
     ]
    }
   ],
   "source": [
    "x0 = x[0].reshape((x[0].shape[0], x[0].shape[1], 1))\n",
    "print(x[0].shape)\n",
    "print(x0.shape)\n"
   ]
  },
  {
   "cell_type": "code",
   "execution_count": 40,
   "metadata": {},
   "outputs": [
    {
     "data": {
      "text/plain": [
       "array([ 1,  2,  3,  4,  5,  6,  7,  8,  9, 10, 11, 12, 13, 15, 16, 17, 18,\n",
       "       19, 20, 21, 22, 23, 24, 25, 26, 27, 28, 29, 30, 31, 32, 33, 34, 35,\n",
       "       36, 37, 38, 39])"
      ]
     },
     "execution_count": 40,
     "metadata": {},
     "output_type": "execute_result"
    }
   ],
   "source": [
    "Y = y.astype(np.int)\n",
    "Y_train = y_train.astype(np.int)\n",
    "Y_test = y_test.astype(np.int)\n",
    "np.unique(Y)"
   ]
  },
  {
   "cell_type": "code",
   "execution_count": 41,
   "metadata": {
    "collapsed": true
   },
   "outputs": [],
   "source": [
    "YY_train = np_utils.to_categorical(Y_train, 40)\n",
    "YY_test  = np_utils.to_categorical(Y_test , 40)"
   ]
  },
  {
   "cell_type": "code",
   "execution_count": 187,
   "metadata": {
    "collapsed": true
   },
   "outputs": [],
   "source": [
    "#x_train = x_train.astype('float32')\n",
    "#x_test = x_test.astype('float32')\n",
    "#x_train /= 255\n",
    "#x_test /= 255"
   ]
  },
  {
   "cell_type": "markdown",
   "metadata": {},
   "source": [
    "#### <center> fit model <center> "
   ]
  },
  {
   "cell_type": "code",
   "execution_count": 51,
   "metadata": {},
   "outputs": [
    {
     "name": "stdout",
     "output_type": "stream",
     "text": [
      "Train on 2169 samples, validate on 241 samples\n",
      "Epoch 1/20\n",
      " - 25s - loss: 3.5532 - acc: 0.1245 - val_loss: 3.2501 - val_acc: 0.3112\n",
      "Epoch 2/20\n",
      " - 24s - loss: 2.1410 - acc: 0.4938 - val_loss: 1.8681 - val_acc: 0.4730\n",
      "Epoch 3/20\n",
      " - 23s - loss: 0.8033 - acc: 0.7953 - val_loss: 2.1818 - val_acc: 0.5892\n",
      "Epoch 4/20\n",
      " - 24s - loss: 0.4346 - acc: 0.9036 - val_loss: 0.3477 - val_acc: 0.9253\n",
      "Epoch 5/20\n",
      " - 26s - loss: 0.1243 - acc: 0.9733 - val_loss: 0.7114 - val_acc: 0.8174\n",
      "Epoch 6/20\n",
      " - 27s - loss: 0.0776 - acc: 0.9802 - val_loss: 0.1716 - val_acc: 0.9751\n",
      "Epoch 7/20\n",
      " - 25s - loss: 0.0176 - acc: 0.9991 - val_loss: 0.0709 - val_acc: 0.9959\n",
      "Epoch 8/20\n",
      " - 25s - loss: 0.0065 - acc: 0.9995 - val_loss: 0.0707 - val_acc: 0.9917\n",
      "Epoch 9/20\n",
      " - 28s - loss: 0.0033 - acc: 1.0000 - val_loss: 0.0637 - val_acc: 0.9876\n",
      "Epoch 10/20\n",
      " - 25s - loss: 0.0025 - acc: 1.0000 - val_loss: 0.0574 - val_acc: 0.9917\n",
      "Epoch 11/20\n",
      " - 26s - loss: 0.0022 - acc: 1.0000 - val_loss: 0.0547 - val_acc: 0.9917\n",
      "Epoch 12/20\n",
      " - 25s - loss: 0.0019 - acc: 1.0000 - val_loss: 0.0550 - val_acc: 0.9917\n",
      "Epoch 13/20\n",
      " - 26s - loss: 0.0017 - acc: 1.0000 - val_loss: 0.0515 - val_acc: 0.9917\n",
      "Epoch 14/20\n",
      " - 25s - loss: 0.0015 - acc: 1.0000 - val_loss: 0.0527 - val_acc: 0.9917\n",
      "Epoch 15/20\n",
      " - 26s - loss: 0.0014 - acc: 1.0000 - val_loss: 0.0495 - val_acc: 0.9917\n",
      "Epoch 16/20\n",
      " - 26s - loss: 0.0013 - acc: 1.0000 - val_loss: 0.0505 - val_acc: 0.9917\n",
      "Epoch 17/20\n",
      " - 26s - loss: 0.0012 - acc: 1.0000 - val_loss: 0.0491 - val_acc: 0.9917\n",
      "Epoch 18/20\n",
      " - 25s - loss: 0.0011 - acc: 1.0000 - val_loss: 0.0488 - val_acc: 0.9917\n",
      "Epoch 19/20\n",
      " - 26s - loss: 0.0010 - acc: 1.0000 - val_loss: 0.0470 - val_acc: 0.9917\n",
      "Epoch 20/20\n",
      " - 25s - loss: 9.7845e-04 - acc: 1.0000 - val_loss: 0.0459 - val_acc: 0.9917\n",
      "506.5965440273285 s\n"
     ]
    }
   ],
   "source": [
    "t0 = time()\n",
    "history = model.fit(x_train, YY_train, batch_size = batch_size, epochs = nb_epoch,verbose=2,\n",
    "                  validation_data = (x_test, YY_test), shuffle = True)\n",
    "print(time() - t0,\"s\")"
   ]
  },
  {
   "cell_type": "code",
   "execution_count": 211,
   "metadata": {},
   "outputs": [
    {
     "name": "stdout",
     "output_type": "stream",
     "text": [
      "\r",
      "25/25 [==============================] - 0s 7ms/step\n"
     ]
    },
    {
     "data": {
      "text/plain": [
       "array([33, 34,  5,  4, 35, 32, 17, 21, 26, 27, 18, 16, 29,  8, 30, 39,  1,\n",
       "       38, 31,  9, 13, 22, 23, 12, 15])"
      ]
     },
     "execution_count": 211,
     "metadata": {},
     "output_type": "execute_result"
    }
   ],
   "source": [
    "model.predict_classes(x[0::100], verbose=1)\n"
   ]
  },
  {
   "cell_type": "code",
   "execution_count": 213,
   "metadata": {},
   "outputs": [
    {
     "data": {
      "text/plain": [
       "array(['33', '34', '05', '04', '35', '32', '17', '21', '26', '27', '18',\n",
       "       '16', '29', '08', '30', '39', '01', '38', '31', '09', '13', '22',\n",
       "       '23', '12', '15'], dtype='<U2')"
      ]
     },
     "execution_count": 213,
     "metadata": {},
     "output_type": "execute_result"
    }
   ],
   "source": [
    "y[0::100]"
   ]
  },
  {
   "cell_type": "markdown",
   "metadata": {},
   "source": [
    "#### <center> print history <center> "
   ]
  },
  {
   "cell_type": "code",
   "execution_count": 74,
   "metadata": {},
   "outputs": [
    {
     "data": {
      "text/plain": [
       "dict_keys(['val_loss', 'val_acc', 'loss', 'acc'])"
      ]
     },
     "execution_count": 74,
     "metadata": {},
     "output_type": "execute_result"
    }
   ],
   "source": [
    "history.history.keys()"
   ]
  },
  {
   "cell_type": "code",
   "execution_count": 52,
   "metadata": {
    "collapsed": true
   },
   "outputs": [],
   "source": [
    "# display loss change\n",
    "\n",
    "def displayHistory(history,mode=1):\n",
    "    print(history.history.keys())\n",
    "    write_his= open('history', 'wb')\n",
    "    \n",
    "    sns.set_style('whitegrid')\n",
    "    plt.rcParams['figure.figsize'] = [14,11]\n",
    "\n",
    "    if mode>0:\n",
    "        plt.plot(history.history['acc'],color='navy')\n",
    "        plt.plot(history.history['loss'],color='green')\n",
    "        plt.xlabel('epoch')\n",
    "        plt.legend(['acc', 'loss'], loc='upper left',fontsize='x-large')\n",
    "        \n",
    "    # summarize history for acc\n",
    "    if mode>1:\n",
    "        plt.plot(history.history['val_acc'],color='darkorange',)\n",
    "        plt.plot(history.history['val_loss'],color='red')\n",
    "        plt.legend(['acc', 'loss','val-acc', 'val-loss'], loc='upper left',fontsize='x-large')\n",
    " \n",
    "    plt.title('Loss vs. Epoch')\n",
    "    plt.xlabel('epoch')\n",
    "    plt.ylabel('loss')\n",
    "    plt.show()\n",
    "    write_his.close()"
   ]
  },
  {
   "cell_type": "code",
   "execution_count": 87,
   "metadata": {},
   "outputs": [
    {
     "data": {
      "text/html": [
       "<div>\n",
       "<style scoped>\n",
       "    .dataframe tbody tr th:only-of-type {\n",
       "        vertical-align: middle;\n",
       "    }\n",
       "\n",
       "    .dataframe tbody tr th {\n",
       "        vertical-align: top;\n",
       "    }\n",
       "\n",
       "    .dataframe thead th {\n",
       "        text-align: right;\n",
       "    }\n",
       "</style>\n",
       "<table border=\"1\" class=\"dataframe\">\n",
       "  <thead>\n",
       "    <tr style=\"text-align: right;\">\n",
       "      <th></th>\n",
       "      <th>train_accu</th>\n",
       "      <th>val_accu</th>\n",
       "      <th>train_loss</th>\n",
       "      <th>val_loss</th>\n",
       "    </tr>\n",
       "  </thead>\n",
       "  <tbody>\n",
       "    <tr>\n",
       "      <th>1</th>\n",
       "      <td>0.124481</td>\n",
       "      <td>0.311203</td>\n",
       "      <td>3.553174</td>\n",
       "      <td>3.250124</td>\n",
       "    </tr>\n",
       "    <tr>\n",
       "      <th>2</th>\n",
       "      <td>0.493776</td>\n",
       "      <td>0.473029</td>\n",
       "      <td>2.141047</td>\n",
       "      <td>1.868085</td>\n",
       "    </tr>\n",
       "    <tr>\n",
       "      <th>3</th>\n",
       "      <td>0.795297</td>\n",
       "      <td>0.589212</td>\n",
       "      <td>0.803350</td>\n",
       "      <td>2.181779</td>\n",
       "    </tr>\n",
       "    <tr>\n",
       "      <th>4</th>\n",
       "      <td>0.903642</td>\n",
       "      <td>0.925311</td>\n",
       "      <td>0.434612</td>\n",
       "      <td>0.347696</td>\n",
       "    </tr>\n",
       "    <tr>\n",
       "      <th>5</th>\n",
       "      <td>0.973260</td>\n",
       "      <td>0.817427</td>\n",
       "      <td>0.124274</td>\n",
       "      <td>0.711427</td>\n",
       "    </tr>\n",
       "    <tr>\n",
       "      <th>6</th>\n",
       "      <td>0.980175</td>\n",
       "      <td>0.975104</td>\n",
       "      <td>0.077612</td>\n",
       "      <td>0.171563</td>\n",
       "    </tr>\n",
       "    <tr>\n",
       "      <th>7</th>\n",
       "      <td>0.999078</td>\n",
       "      <td>0.995851</td>\n",
       "      <td>0.017579</td>\n",
       "      <td>0.070891</td>\n",
       "    </tr>\n",
       "    <tr>\n",
       "      <th>8</th>\n",
       "      <td>0.999539</td>\n",
       "      <td>0.991701</td>\n",
       "      <td>0.006519</td>\n",
       "      <td>0.070748</td>\n",
       "    </tr>\n",
       "    <tr>\n",
       "      <th>9</th>\n",
       "      <td>1.000000</td>\n",
       "      <td>0.987552</td>\n",
       "      <td>0.003279</td>\n",
       "      <td>0.063718</td>\n",
       "    </tr>\n",
       "    <tr>\n",
       "      <th>10</th>\n",
       "      <td>1.000000</td>\n",
       "      <td>0.991701</td>\n",
       "      <td>0.002548</td>\n",
       "      <td>0.057416</td>\n",
       "    </tr>\n",
       "    <tr>\n",
       "      <th>11</th>\n",
       "      <td>1.000000</td>\n",
       "      <td>0.991701</td>\n",
       "      <td>0.002178</td>\n",
       "      <td>0.054711</td>\n",
       "    </tr>\n",
       "    <tr>\n",
       "      <th>12</th>\n",
       "      <td>1.000000</td>\n",
       "      <td>0.991701</td>\n",
       "      <td>0.001921</td>\n",
       "      <td>0.055005</td>\n",
       "    </tr>\n",
       "    <tr>\n",
       "      <th>13</th>\n",
       "      <td>1.000000</td>\n",
       "      <td>0.991701</td>\n",
       "      <td>0.001725</td>\n",
       "      <td>0.051487</td>\n",
       "    </tr>\n",
       "    <tr>\n",
       "      <th>14</th>\n",
       "      <td>1.000000</td>\n",
       "      <td>0.991701</td>\n",
       "      <td>0.001545</td>\n",
       "      <td>0.052692</td>\n",
       "    </tr>\n",
       "    <tr>\n",
       "      <th>15</th>\n",
       "      <td>1.000000</td>\n",
       "      <td>0.991701</td>\n",
       "      <td>0.001429</td>\n",
       "      <td>0.049481</td>\n",
       "    </tr>\n",
       "    <tr>\n",
       "      <th>16</th>\n",
       "      <td>1.000000</td>\n",
       "      <td>0.991701</td>\n",
       "      <td>0.001323</td>\n",
       "      <td>0.050495</td>\n",
       "    </tr>\n",
       "    <tr>\n",
       "      <th>17</th>\n",
       "      <td>1.000000</td>\n",
       "      <td>0.991701</td>\n",
       "      <td>0.001198</td>\n",
       "      <td>0.049061</td>\n",
       "    </tr>\n",
       "    <tr>\n",
       "      <th>18</th>\n",
       "      <td>1.000000</td>\n",
       "      <td>0.991701</td>\n",
       "      <td>0.001117</td>\n",
       "      <td>0.048820</td>\n",
       "    </tr>\n",
       "    <tr>\n",
       "      <th>19</th>\n",
       "      <td>1.000000</td>\n",
       "      <td>0.991701</td>\n",
       "      <td>0.001038</td>\n",
       "      <td>0.046952</td>\n",
       "    </tr>\n",
       "    <tr>\n",
       "      <th>20</th>\n",
       "      <td>1.000000</td>\n",
       "      <td>0.991701</td>\n",
       "      <td>0.000978</td>\n",
       "      <td>0.045876</td>\n",
       "    </tr>\n",
       "  </tbody>\n",
       "</table>\n",
       "</div>"
      ],
      "text/plain": [
       "    train_accu  val_accu  train_loss  val_loss\n",
       "1     0.124481  0.311203    3.553174  3.250124\n",
       "2     0.493776  0.473029    2.141047  1.868085\n",
       "3     0.795297  0.589212    0.803350  2.181779\n",
       "4     0.903642  0.925311    0.434612  0.347696\n",
       "5     0.973260  0.817427    0.124274  0.711427\n",
       "6     0.980175  0.975104    0.077612  0.171563\n",
       "7     0.999078  0.995851    0.017579  0.070891\n",
       "8     0.999539  0.991701    0.006519  0.070748\n",
       "9     1.000000  0.987552    0.003279  0.063718\n",
       "10    1.000000  0.991701    0.002548  0.057416\n",
       "11    1.000000  0.991701    0.002178  0.054711\n",
       "12    1.000000  0.991701    0.001921  0.055005\n",
       "13    1.000000  0.991701    0.001725  0.051487\n",
       "14    1.000000  0.991701    0.001545  0.052692\n",
       "15    1.000000  0.991701    0.001429  0.049481\n",
       "16    1.000000  0.991701    0.001323  0.050495\n",
       "17    1.000000  0.991701    0.001198  0.049061\n",
       "18    1.000000  0.991701    0.001117  0.048820\n",
       "19    1.000000  0.991701    0.001038  0.046952\n",
       "20    1.000000  0.991701    0.000978  0.045876"
      ]
     },
     "execution_count": 87,
     "metadata": {},
     "output_type": "execute_result"
    }
   ],
   "source": [
    "hist_hist = pd.DataFrame({'train_accu':history.history['acc'],'val_accu':history.history['val_acc'],\n",
    "                          'train_loss':history.history['loss'],'val_loss':history.history['val_loss']}).T\n",
    "hist_hist.columns = range(1,21)\n",
    "hist_hist.T"
   ]
  },
  {
   "cell_type": "code",
   "execution_count": 53,
   "metadata": {},
   "outputs": [
    {
     "name": "stdout",
     "output_type": "stream",
     "text": [
      "dict_keys(['val_loss', 'val_acc', 'loss', 'acc'])\n"
     ]
    },
    {
     "data": {
      "image/png": "[encoded data removed]",
      "text/plain": [
       "<Figure size 1008x792 with 1 Axes>"
      ]
     },
     "metadata": {},
     "output_type": "display_data"
    }
   ],
   "source": [
    "displayHistory(history, mode=2)"
   ]
  },
  {
   "cell_type": "code",
   "execution_count": null,
   "metadata": {
    "collapsed": true
   },
   "outputs": [],
   "source": []
  },
  {
   "cell_type": "markdown",
   "metadata": {},
   "source": [
    "#### <center> predict test data <center> "
   ]
  },
  {
   "cell_type": "code",
   "execution_count": 54,
   "metadata": {},
   "outputs": [
    {
     "name": "stdout",
     "output_type": "stream",
     "text": [
      "241/241 [==============================] - 1s 5ms/step\n"
     ]
    }
   ],
   "source": [
    "test_result = model.predict_classes(x_test, verbose=1)"
   ]
  },
  {
   "cell_type": "markdown",
   "metadata": {},
   "source": [
    "#### <center> print test result <center> "
   ]
  },
  {
   "cell_type": "code",
   "execution_count": 72,
   "metadata": {
    "collapsed": true
   },
   "outputs": [],
   "source": [
    "test_accuracy = np.mean(np.equal(Y_test, test_result))  "
   ]
  },
  {
   "cell_type": "code",
   "execution_count": 73,
   "metadata": {},
   "outputs": [
    {
     "name": "stdout",
     "output_type": "stream",
     "text": [
      "accuracy: 0.991701244813278\n"
     ]
    }
   ],
   "source": [
    "print(\"accuracy:\", test_accuracy)"
   ]
  },
  {
   "cell_type": "markdown",
   "metadata": {},
   "source": [
    "#### <center> print history <center> "
   ]
  },
  {
   "cell_type": "code",
   "execution_count": null,
   "metadata": {
    "collapsed": true
   },
   "outputs": [],
   "source": [
    "if os.path.exists('bestacc.pkl'):# save histoty\n",
    "    read_file = open('bestacc.pkl', 'rb')\n",
    "    bestacc = pickle.load(read_file)\n",
    "    read_file.close()\n",
    "    if(bestacc<test_accuracy):\n",
    "        write_file = open('bestacc.pkl', 'wb')\n",
    "        pickle.dump(test_accuracy, write_file, -1)\n",
    "        model.save_weights('model2_weights.h5', overwrite=True)\n",
    "        write_file.close()\n",
    "else:\n",
    "    write_file = open('bestacc.pkl', 'wb')\n",
    "    pickle.dump(test_accuracy, write_file, -1)\n",
    "    model.save_weights('model2_weights.h5', overwrite=True)\n",
    "    write_file.close()\n",
    " \n",
    "best=getBesthistoryacc()\n",
    "print(\"best accuracy:\",best)"
   ]
  },
  {
   "cell_type": "code",
   "execution_count": null,
   "metadata": {
    "collapsed": true
   },
   "outputs": [],
   "source": []
  },
  {
   "cell_type": "code",
   "execution_count": null,
   "metadata": {
    "collapsed": true
   },
   "outputs": [],
   "source": []
  },
  {
   "cell_type": "code",
   "execution_count": null,
   "metadata": {
    "collapsed": true
   },
   "outputs": [],
   "source": []
  }
 ],
 "metadata": {
  "kernelspec": {
   "display_name": "Python 3",
   "language": "python",
   "name": "python3"
  },
  "language_info": {
   "codemirror_mode": {
    "name": "ipython",
    "version": 3
   },
   "file_extension": ".py",
   "mimetype": "text/x-python",
   "name": "python",
   "nbconvert_exporter": "python",
   "pygments_lexer": "ipython3",
   "version": "3.6.1"
  }
 },
 "nbformat": 4,
 "nbformat_minor": 2
}
